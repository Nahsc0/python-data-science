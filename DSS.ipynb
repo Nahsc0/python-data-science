{
 "cells": [
  {
   "cell_type": "code",
   "execution_count": 1,
   "id": "6111c591",
   "metadata": {},
   "outputs": [],
   "source": [
    "A_dog = \"dog\" "
   ]
  },
  {
   "cell_type": "code",
   "execution_count": 2,
   "id": "dde56b8f",
   "metadata": {},
   "outputs": [
    {
     "name": "stdout",
     "output_type": "stream",
     "text": [
      "dog\n"
     ]
    }
   ],
   "source": [
    "print(A_dog)"
   ]
  },
  {
   "cell_type": "code",
   "execution_count": 4,
   "id": "796961bc",
   "metadata": {},
   "outputs": [
    {
     "data": {
      "text/plain": [
       "True"
      ]
     },
     "execution_count": 4,
     "metadata": {},
     "output_type": "execute_result"
    }
   ],
   "source": [
    "A_dog == \"dog\""
   ]
  },
  {
   "cell_type": "code",
   "execution_count": 5,
   "id": "5fa4c9cb",
   "metadata": {},
   "outputs": [
    {
     "data": {
      "text/plain": [
       "False"
      ]
     },
     "execution_count": 5,
     "metadata": {},
     "output_type": "execute_result"
    }
   ],
   "source": [
    "A_dog == \"cat\""
   ]
  },
  {
   "cell_type": "code",
   "execution_count": 6,
   "id": "f4daa5ba",
   "metadata": {},
   "outputs": [
    {
     "data": {
      "text/plain": [
       "bool"
      ]
     },
     "execution_count": 6,
     "metadata": {},
     "output_type": "execute_result"
    }
   ],
   "source": [
    "type(True)"
   ]
  },
  {
   "cell_type": "code",
   "execution_count": 7,
   "id": "f08644a6",
   "metadata": {},
   "outputs": [
    {
     "data": {
      "text/plain": [
       "True"
      ]
     },
     "execution_count": 7,
     "metadata": {},
     "output_type": "execute_result"
    }
   ],
   "source": [
    "True==1"
   ]
  },
  {
   "cell_type": "code",
   "execution_count": 10,
   "id": "76b80a0c",
   "metadata": {},
   "outputs": [
    {
     "data": {
      "text/plain": [
       "True"
      ]
     },
     "execution_count": 10,
     "metadata": {},
     "output_type": "execute_result"
    }
   ],
   "source": [
    "False == 0"
   ]
  },
  {
   "cell_type": "code",
   "execution_count": 11,
   "id": "7bf6a6e2",
   "metadata": {},
   "outputs": [],
   "source": [
    "numbers = [23,77]"
   ]
  },
  {
   "cell_type": "code",
   "execution_count": 12,
   "id": "5bb556f6",
   "metadata": {},
   "outputs": [
    {
     "data": {
      "text/plain": [
       "True"
      ]
     },
     "execution_count": 12,
     "metadata": {},
     "output_type": "execute_result"
    }
   ],
   "source": [
    "23 in numbers"
   ]
  },
  {
   "cell_type": "code",
   "execution_count": 13,
   "id": "70bb3894",
   "metadata": {},
   "outputs": [
    {
     "data": {
      "text/plain": [
       "True"
      ]
     },
     "execution_count": 13,
     "metadata": {},
     "output_type": "execute_result"
    }
   ],
   "source": [
    "bool(1)"
   ]
  },
  {
   "cell_type": "code",
   "execution_count": 14,
   "id": "97123abe",
   "metadata": {},
   "outputs": [
    {
     "data": {
      "text/plain": [
       "False"
      ]
     },
     "execution_count": 14,
     "metadata": {},
     "output_type": "execute_result"
    }
   ],
   "source": [
    "bool(0)"
   ]
  },
  {
   "cell_type": "code",
   "execution_count": 15,
   "id": "4b62cc78",
   "metadata": {},
   "outputs": [
    {
     "data": {
      "text/plain": [
       "True"
      ]
     },
     "execution_count": 15,
     "metadata": {},
     "output_type": "execute_result"
    }
   ],
   "source": [
    "bool('Nasir')"
   ]
  },
  {
   "cell_type": "code",
   "execution_count": 16,
   "id": "67690dd9",
   "metadata": {},
   "outputs": [
    {
     "data": {
      "text/plain": [
       "True"
      ]
     },
     "execution_count": 16,
     "metadata": {},
     "output_type": "execute_result"
    }
   ],
   "source": [
    "bool('0')"
   ]
  },
  {
   "cell_type": "code",
   "execution_count": 17,
   "id": "40b5b101",
   "metadata": {},
   "outputs": [
    {
     "data": {
      "text/plain": [
       "False"
      ]
     },
     "execution_count": 17,
     "metadata": {},
     "output_type": "execute_result"
    }
   ],
   "source": [
    "bool('')"
   ]
  },
  {
   "cell_type": "code",
   "execution_count": 18,
   "id": "ceb46375",
   "metadata": {},
   "outputs": [],
   "source": [
    "#Comparison Operators\n",
    "#Create Simple conditional statements\n",
    "#Branching condtitional statements\n",
    "#Nesting Conditional statements\n",
    "#Logical operators\n",
    "#Special Operators\n"
   ]
  },
  {
   "cell_type": "code",
   "execution_count": 21,
   "id": "33754965",
   "metadata": {},
   "outputs": [],
   "source": [
    "#Look at Operators:  = <-- this is the assignment operators"
   ]
  },
  {
   "cell_type": "code",
   "execution_count": 22,
   "id": "75ea9f4a",
   "metadata": {},
   "outputs": [],
   "source": [
    "#Comparison Operators\n",
    "# > Greater Than Operator is True if the Left value is greater than the value RHS."
   ]
  },
  {
   "cell_type": "code",
   "execution_count": 23,
   "id": "1cf28283",
   "metadata": {},
   "outputs": [],
   "source": [
    "My_age = 27\n",
    "Babe_age = 24"
   ]
  },
  {
   "cell_type": "code",
   "execution_count": 24,
   "id": "95436e4b",
   "metadata": {},
   "outputs": [
    {
     "data": {
      "text/plain": [
       "False"
      ]
     },
     "execution_count": 24,
     "metadata": {},
     "output_type": "execute_result"
    }
   ],
   "source": [
    "Babe_age == My_age "
   ]
  },
  {
   "cell_type": "code",
   "execution_count": 25,
   "id": "2b415bcb",
   "metadata": {},
   "outputs": [
    {
     "data": {
      "text/plain": [
       "False"
      ]
     },
     "execution_count": 25,
     "metadata": {},
     "output_type": "execute_result"
    }
   ],
   "source": [
    "Babe_age > My_age"
   ]
  },
  {
   "cell_type": "code",
   "execution_count": 26,
   "id": "9f3deb64",
   "metadata": {},
   "outputs": [
    {
     "data": {
      "text/plain": [
       "True"
      ]
     },
     "execution_count": 26,
     "metadata": {},
     "output_type": "execute_result"
    }
   ],
   "source": [
    "Babe_age < My_age"
   ]
  },
  {
   "cell_type": "code",
   "execution_count": 32,
   "id": "ee80254d",
   "metadata": {},
   "outputs": [
    {
     "data": {
      "text/plain": [
       "True"
      ]
     },
     "execution_count": 32,
     "metadata": {},
     "output_type": "execute_result"
    }
   ],
   "source": [
    " 5 >= 2"
   ]
  },
  {
   "cell_type": "code",
   "execution_count": 33,
   "id": "d010e0c4",
   "metadata": {},
   "outputs": [
    {
     "data": {
      "text/plain": [
       "False"
      ]
     },
     "execution_count": 33,
     "metadata": {},
     "output_type": "execute_result"
    }
   ],
   "source": [
    "55 == 20"
   ]
  },
  {
   "cell_type": "code",
   "execution_count": 34,
   "id": "0ea03f62",
   "metadata": {},
   "outputs": [
    {
     "data": {
      "text/plain": [
       "True"
      ]
     },
     "execution_count": 34,
     "metadata": {},
     "output_type": "execute_result"
    }
   ],
   "source": [
    "40 == 40"
   ]
  },
  {
   "cell_type": "markdown",
   "id": "b10277d7",
   "metadata": {},
   "source": [
    "# Create Simple conditional statements"
   ]
  },
  {
   "cell_type": "code",
   "execution_count": 35,
   "id": "219c0103",
   "metadata": {},
   "outputs": [],
   "source": [
    "Allah_is_Great = True"
   ]
  },
  {
   "cell_type": "code",
   "execution_count": 37,
   "id": "a9924b4a",
   "metadata": {},
   "outputs": [
    {
     "name": "stdout",
     "output_type": "stream",
     "text": [
      "Allahu Akbar\n"
     ]
    }
   ],
   "source": [
    "if Allah_is_Great:\n",
    "    print('Allahu Akbar')"
   ]
  },
  {
   "cell_type": "code",
   "execution_count": 49,
   "id": "e99334cd",
   "metadata": {},
   "outputs": [],
   "source": [
    "no_introduction = False"
   ]
  },
  {
   "cell_type": "code",
   "execution_count": 50,
   "id": "0e99c3fb",
   "metadata": {},
   "outputs": [],
   "source": [
    " if no_introduction:\n",
    "    print('our introduction will not hold this month again')"
   ]
  },
  {
   "cell_type": "code",
   "execution_count": 67,
   "id": "c519ef8d",
   "metadata": {},
   "outputs": [
    {
     "data": {
      "text/plain": [
       "27"
      ]
     },
     "execution_count": 67,
     "metadata": {},
     "output_type": "execute_result"
    }
   ],
   "source": [
    "My_age"
   ]
  },
  {
   "cell_type": "code",
   "execution_count": 55,
   "id": "55a74575",
   "metadata": {},
   "outputs": [
    {
     "name": "stdout",
     "output_type": "stream",
     "text": [
      "You cannot marry now\n"
     ]
    }
   ],
   "source": [
    "if My_age > 30:\n",
    "    \n",
    "    print(\"Let's go, lets get married\")\n",
    "else:\n",
    "    print(\"You cannot marry now\")"
   ]
  },
  {
   "cell_type": "code",
   "execution_count": null,
   "id": "c479d521",
   "metadata": {},
   "outputs": [],
   "source": [
    "#the else statement evauates when the cpnditional is False"
   ]
  },
  {
   "cell_type": "code",
   "execution_count": 63,
   "id": "c2b5ce55",
   "metadata": {},
   "outputs": [],
   "source": [
    "name_students = ['Zakari', 'Abdulrahman', 'Abu', 'Sadiya']"
   ]
  },
  {
   "cell_type": "code",
   "execution_count": 64,
   "id": "63eea99e",
   "metadata": {
    "scrolled": true
   },
   "outputs": [
    {
     "name": "stdout",
     "output_type": "stream",
     "text": [
      "None\n"
     ]
    }
   ],
   "source": [
    "print(name_students.sort())"
   ]
  },
  {
   "cell_type": "markdown",
   "id": "6f13d6c9",
   "metadata": {},
   "source": [
    "name_students"
   ]
  },
  {
   "cell_type": "code",
   "execution_count": 65,
   "id": "d92077a3",
   "metadata": {},
   "outputs": [
    {
     "name": "stdout",
     "output_type": "stream",
     "text": [
      "['Abdulrahman', 'Abu', 'Sadiya', 'Zakari']\n"
     ]
    }
   ],
   "source": [
    "print(name_students)"
   ]
  },
  {
   "cell_type": "markdown",
   "id": "dac0d89c",
   "metadata": {},
   "source": [
    "# elif Statement:"
   ]
  },
  {
   "cell_type": "code",
   "execution_count": 66,
   "id": "6d0ca67f",
   "metadata": {},
   "outputs": [
    {
     "name": "stdout",
     "output_type": "stream",
     "text": [
      "we move, mama\n"
     ]
    }
   ],
   "source": [
    "if My_age > 30:\n",
    "    \n",
    "    print(\"Let's go, lets get married\")\n",
    "elif Babe_age > 14:\n",
    "    print('we move, mama')\n",
    "else:\n",
    "    print(\"You cannot marry now\")"
   ]
  },
  {
   "cell_type": "code",
   "execution_count": 69,
   "id": "2b9920e9",
   "metadata": {},
   "outputs": [
    {
     "name": "stdout",
     "output_type": "stream",
     "text": [
      "You cannot marry now\n"
     ]
    }
   ],
   "source": [
    "if My_age > 30:\n",
    "    \n",
    "    print(\"Let's go, lets get married\")\n",
    "elif Babe_age < 14:\n",
    "    print('we move, mama')\n",
    "else:\n",
    "    print(\"You cannot marry now\")"
   ]
  },
  {
   "cell_type": "code",
   "execution_count": 71,
   "id": "61d00765",
   "metadata": {},
   "outputs": [],
   "source": [
    "pablo_num = 8063431315"
   ]
  },
  {
   "cell_type": "code",
   "execution_count": 72,
   "id": "a90c907a",
   "metadata": {},
   "outputs": [
    {
     "name": "stdout",
     "output_type": "stream",
     "text": [
      "8063431315\n"
     ]
    }
   ],
   "source": [
    "print(pablo_num)"
   ]
  },
  {
   "cell_type": "code",
   "execution_count": 1,
   "id": "bd784abe",
   "metadata": {},
   "outputs": [],
   "source": [
    "list_cars = ['Aston Martin', 'Buggati', 'S550', 'Ferrari']"
   ]
  },
  {
   "cell_type": "code",
   "execution_count": 8,
   "id": "3a7afb8b",
   "metadata": {},
   "outputs": [
    {
     "name": "stdout",
     "output_type": "stream",
     "text": [
      "I really love Aston Martin for sure!\n",
      "My options are open\n",
      "My options are open\n",
      "My options are open\n"
     ]
    }
   ],
   "source": [
    "for cars in list_cars:\n",
    "    if cars == 'Marcedese':\n",
    "        print(\"I love German cars\")\n",
    "    elif cars == 'Aston Martin':\n",
    "        print(\"I really love Aston Martin for sure!\")\n",
    "    else:\n",
    "        print(\"My options are open\")"
   ]
  },
  {
   "cell_type": "code",
   "execution_count": null,
   "id": "a500c255",
   "metadata": {},
   "outputs": [],
   "source": []
  },
  {
   "cell_type": "code",
   "execution_count": 11,
   "id": "b3dca3c2",
   "metadata": {},
   "outputs": [
    {
     "name": "stdout",
     "output_type": "stream",
     "text": [
      "I like apple\n",
      "I like banana\n",
      "I like orange\n",
      "I love PineApples..\n",
      "Loop ended\n"
     ]
    }
   ],
   "source": [
    "fruits = [\"apple\", \"banana\", \"orange\", \"Pineapple\"]\n",
    "\n",
    "for fruit in fruits:\n",
    "    if fruit == 'Pineapple':\n",
    "        print(\"I love PineApples..\")\n",
    "    else:\n",
    "        print(\"I like\", fruit)\n",
    "    \n",
    "\n",
    "print(\"Loop ended\")\n"
   ]
  },
  {
   "cell_type": "markdown",
   "id": "2c51f9e8",
   "metadata": {},
   "source": [
    "# Nesting Conditional Statements"
   ]
  },
  {
   "cell_type": "code",
   "execution_count": 22,
   "id": "4b0a3921",
   "metadata": {},
   "outputs": [
    {
     "name": "stdout",
     "output_type": "stream",
     "text": [
      "I love driving Japanese cars\n"
     ]
    }
   ],
   "source": [
    "age = 20\n",
    "car = \"Ford\"\n",
    "\n",
    "if age >= 20 or car in ['Honda', 'Toyota']:\n",
    "    print(\"I love driving Japanese cars\")\n",
    "elif car in ['Ford', 'Chrysler']:\n",
    "        print(\"I love driving American cars\")\n",
    "else:\n",
    "    print(\"Anything goes fine then!!!\")"
   ]
  },
  {
   "cell_type": "markdown",
   "id": "0d8d7e61",
   "metadata": {},
   "source": [
    "# Logical Operators"
   ]
  },
  {
   "cell_type": "code",
   "execution_count": null,
   "id": "f8f67b8f",
   "metadata": {},
   "outputs": [],
   "source": [
    "#Logical operators in Python are used to perform logical operations on Boolean values. \n",
    "#These operators allow you to combine or manipulate Boolean expressions and evaluate their truth values. \n",
    "#There are three logical operators in Python: and, or, and not."
   ]
  },
  {
   "cell_type": "code",
   "execution_count": 24,
   "id": "adf4709b",
   "metadata": {},
   "outputs": [
    {
     "name": "stdout",
     "output_type": "stream",
     "text": [
      "You can go in\n"
     ]
    }
   ],
   "source": [
    "untrue = False\n",
    "if not untrue:\n",
    "    print(\"You can go in\")\n",
    "else:\n",
    "    print(\"You cannot go in\")"
   ]
  },
  {
   "cell_type": "code",
   "execution_count": 47,
   "id": "18598caa",
   "metadata": {},
   "outputs": [
    {
     "name": "stdout",
     "output_type": "stream",
     "text": [
      "You are not eligible to drive\n"
     ]
    }
   ],
   "source": [
    "age = 25\n",
    "has_license = False\n",
    "\n",
    "if age >= 18 and has_license:\n",
    "    print(\"You can drive a car\")\n",
    "else:\n",
    "    print(\"You are not eligible to drive\")\n"
   ]
  },
  {
   "cell_type": "code",
   "execution_count": 50,
   "id": "8c4aae56",
   "metadata": {},
   "outputs": [
    {
     "name": "stdout",
     "output_type": "stream",
     "text": [
      "You can go on a vacation\n"
     ]
    }
   ],
   "source": [
    "is_weekend = False\n",
    "has_time_off = True\n",
    "\n",
    "if is_weekend or has_time_off:\n",
    "    print(\"You can go on a vacation\")\n",
    "else:\n",
    "    print(\"You cannot go on a vacation\")\n"
   ]
  },
  {
   "cell_type": "code",
   "execution_count": 40,
   "id": "13d37c3b",
   "metadata": {},
   "outputs": [
    {
     "name": "stdout",
     "output_type": "stream",
     "text": [
      "False\n"
     ]
    }
   ],
   "source": [
    "a = True\n",
    "b = False\n",
    "\n",
    "result = a and b\n",
    "print(result)  # Output: False\n"
   ]
  },
  {
   "cell_type": "code",
   "execution_count": 53,
   "id": "aaaf2123",
   "metadata": {},
   "outputs": [
    {
     "name": "stdout",
     "output_type": "stream",
     "text": [
      "It is not raining, you can go outside\n"
     ]
    }
   ],
   "source": [
    "is_raining = False\n",
    "\n",
    "if not is_raining:\n",
    "    print(\"It is not raining, you can go outside\")\n",
    "else:\n",
    "    print(\"It is raining, stay indoors\")\n"
   ]
  },
  {
   "cell_type": "code",
   "execution_count": 3,
   "id": "fa28c665",
   "metadata": {},
   "outputs": [
    {
     "name": "stdout",
     "output_type": "stream",
     "text": [
      "Start preparing for nikkah!\n"
     ]
    }
   ],
   "source": [
    "cash_bank = 5000000\n",
    "savings = True\n",
    "\n",
    "if cash_bank >= 1000000 and savings:\n",
    "    print('Start preparing for nikkah!')\n",
    "else:\n",
    "    print(\"Go and save first!\")"
   ]
  },
  {
   "cell_type": "code",
   "execution_count": 41,
   "id": "e11417ac",
   "metadata": {},
   "outputs": [
    {
     "name": "stdout",
     "output_type": "stream",
     "text": [
      "True\n"
     ]
    }
   ],
   "source": [
    "a = True\n",
    "b = False\n",
    "\n",
    "result = a or b\n",
    "print(result)  # Output: True\n"
   ]
  },
  {
   "cell_type": "code",
   "execution_count": 42,
   "id": "85d66b33",
   "metadata": {},
   "outputs": [
    {
     "name": "stdout",
     "output_type": "stream",
     "text": [
      "False\n"
     ]
    }
   ],
   "source": [
    "a = True\n",
    "\n",
    "result = not a\n",
    "print(result)  # Output: False\n"
   ]
  },
  {
   "cell_type": "code",
   "execution_count": 26,
   "id": "9a4cfbf6",
   "metadata": {},
   "outputs": [
    {
     "name": "stdout",
     "output_type": "stream",
     "text": [
      "this milk is 10 days old and looks white\n"
     ]
    }
   ],
   "source": [
    "color = 'white'\n",
    "age = 10\n",
    "\n",
    "if age <= 14 and (color =='white' or color == 'green'):\n",
    "    print(f\"this milk is {age} days old and looks {color}\")\n",
    "else:\n",
    "    print(f\"You should not drink this {age} day old milk\")\n"
   ]
  },
  {
   "cell_type": "code",
   "execution_count": null,
   "id": "da0e9747",
   "metadata": {},
   "outputs": [],
   "source": [
    "username = input(\"Enter your username: \")\n",
    "password = input(\"Enter your password: \")\n",
    "\n",
    "if username == \"admin\":\n",
    "    if password == \"password\":\n",
    "        print(\"Login successful!\")\n",
    "    else:\n",
    "        print(\"Incorrect password!\")\n",
    "else:\n",
    "    print(\"Invalid username!\")\n"
   ]
  },
  {
   "cell_type": "code",
   "execution_count": 27,
   "id": "a83ec952",
   "metadata": {},
   "outputs": [],
   "source": [
    "### Special Operators"
   ]
  },
  {
   "cell_type": "markdown",
   "id": "920f4be3",
   "metadata": {},
   "source": [
    "# String Formatting"
   ]
  },
  {
   "cell_type": "code",
   "execution_count": 28,
   "id": "42f2b2e3",
   "metadata": {},
   "outputs": [],
   "source": [
    "age_football = 35"
   ]
  },
  {
   "cell_type": "code",
   "execution_count": 32,
   "id": "657ad2ad",
   "metadata": {},
   "outputs": [
    {
     "name": "stdout",
     "output_type": "stream",
     "text": [
      "The retirement age for football is 35\n"
     ]
    }
   ],
   "source": [
    "print(f\"The retirement age for football is {age_football}\")"
   ]
  },
  {
   "cell_type": "markdown",
   "id": "e8aaa85c",
   "metadata": {},
   "source": [
    "# Special Operators"
   ]
  },
  {
   "cell_type": "code",
   "execution_count": 8,
   "id": "24c4b97d",
   "metadata": {},
   "outputs": [],
   "source": [
    "#list\n",
    "x = [1,2,3,4]\n",
    "y = [1,2,3,4]"
   ]
  },
  {
   "cell_type": "code",
   "execution_count": 10,
   "id": "32ccef59",
   "metadata": {},
   "outputs": [
    {
     "data": {
      "text/plain": [
       "list"
      ]
     },
     "execution_count": 10,
     "metadata": {},
     "output_type": "execute_result"
    }
   ],
   "source": [
    "type(x)"
   ]
  },
  {
   "cell_type": "code",
   "execution_count": 4,
   "id": "f8f6d978",
   "metadata": {},
   "outputs": [
    {
     "data": {
      "text/plain": [
       "True"
      ]
     },
     "execution_count": 4,
     "metadata": {},
     "output_type": "execute_result"
    }
   ],
   "source": [
    "x == y #checking equality"
   ]
  },
  {
   "cell_type": "code",
   "execution_count": 5,
   "id": "7633e643",
   "metadata": {},
   "outputs": [
    {
     "data": {
      "text/plain": [
       "140105728375232"
      ]
     },
     "execution_count": 5,
     "metadata": {},
     "output_type": "execute_result"
    }
   ],
   "source": [
    "id(y)"
   ]
  },
  {
   "cell_type": "code",
   "execution_count": 6,
   "id": "e9fa4056",
   "metadata": {},
   "outputs": [
    {
     "data": {
      "text/plain": [
       "False"
      ]
     },
     "execution_count": 6,
     "metadata": {},
     "output_type": "execute_result"
    }
   ],
   "source": [
    "x is y #checking identity"
   ]
  },
  {
   "cell_type": "code",
   "execution_count": 7,
   "id": "d567e1b2",
   "metadata": {},
   "outputs": [
    {
     "data": {
      "text/plain": [
       "140105728142208"
      ]
     },
     "execution_count": 7,
     "metadata": {},
     "output_type": "execute_result"
    }
   ],
   "source": [
    "id(x)"
   ]
  },
  {
   "cell_type": "code",
   "execution_count": 18,
   "id": "203b6d2c",
   "metadata": {},
   "outputs": [],
   "source": [
    "#Understanding Identity.....\n",
    "u = \"Nasco\"\n",
    "v = \"Nasco\""
   ]
  },
  {
   "cell_type": "code",
   "execution_count": 19,
   "id": "e2e371fe",
   "metadata": {},
   "outputs": [
    {
     "data": {
      "text/plain": [
       "True"
      ]
     },
     "execution_count": 19,
     "metadata": {},
     "output_type": "execute_result"
    }
   ],
   "source": [
    "#is is used for identity\n",
    "u == v"
   ]
  },
  {
   "cell_type": "code",
   "execution_count": 15,
   "id": "e6803b25",
   "metadata": {},
   "outputs": [
    {
     "data": {
      "text/plain": [
       "True"
      ]
     },
     "execution_count": 15,
     "metadata": {},
     "output_type": "execute_result"
    }
   ],
   "source": [
    "u is v"
   ]
  },
  {
   "cell_type": "code",
   "execution_count": 16,
   "id": "1d7e5fb6",
   "metadata": {},
   "outputs": [
    {
     "data": {
      "text/plain": [
       "140105728526960"
      ]
     },
     "execution_count": 16,
     "metadata": {},
     "output_type": "execute_result"
    }
   ],
   "source": [
    "id(u)"
   ]
  },
  {
   "cell_type": "code",
   "execution_count": 17,
   "id": "27ab45c8",
   "metadata": {},
   "outputs": [
    {
     "data": {
      "text/plain": [
       "140105728526960"
      ]
     },
     "execution_count": 17,
     "metadata": {},
     "output_type": "execute_result"
    }
   ],
   "source": [
    "id(v)"
   ]
  },
  {
   "cell_type": "code",
   "execution_count": 20,
   "id": "3a7c2c8a",
   "metadata": {},
   "outputs": [],
   "source": [
    "#in\n",
    "x = [1,2,3,4]\n",
    "y = [1,2,3,4]"
   ]
  },
  {
   "cell_type": "code",
   "execution_count": 21,
   "id": "585c0274",
   "metadata": {},
   "outputs": [
    {
     "data": {
      "text/plain": [
       "True"
      ]
     },
     "execution_count": 21,
     "metadata": {},
     "output_type": "execute_result"
    }
   ],
   "source": [
    "1 in x"
   ]
  },
  {
   "cell_type": "code",
   "execution_count": 22,
   "id": "07b6e325",
   "metadata": {},
   "outputs": [
    {
     "data": {
      "text/plain": [
       "False"
      ]
     },
     "execution_count": 22,
     "metadata": {},
     "output_type": "execute_result"
    }
   ],
   "source": [
    "1 not in x"
   ]
  },
  {
   "cell_type": "code",
   "execution_count": 24,
   "id": "0648cac0",
   "metadata": {},
   "outputs": [],
   "source": [
    "#what is the difference between set, list and tuples?\n",
    "#what are their similaririties? They are data structures \n",
    "#which are used to store data..."
   ]
  },
  {
   "cell_type": "code",
   "execution_count": 25,
   "id": "0e3e4d70",
   "metadata": {},
   "outputs": [],
   "source": [
    "x = [1, 2, 3]\n",
    "y = [1, 2, 3]\n",
    "z = x"
   ]
  },
  {
   "cell_type": "code",
   "execution_count": 26,
   "id": "e09a73e7",
   "metadata": {},
   "outputs": [
    {
     "name": "stdout",
     "output_type": "stream",
     "text": [
      "False\n",
      "True\n",
      "True\n"
     ]
    }
   ],
   "source": [
    "print(x is y)       # False\n",
    "print(x is not y)   # True\n",
    "print(x is z)       # True\n"
   ]
  },
  {
   "cell_type": "code",
   "execution_count": 27,
   "id": "1ab990cb",
   "metadata": {},
   "outputs": [
    {
     "name": "stdout",
     "output_type": "stream",
     "text": [
      "True\n",
      "True\n"
     ]
    }
   ],
   "source": [
    "my_list = [1, 2, 3, 4, 5]\n",
    "\n",
    "print(3 in my_list)       # True\n",
    "print(6 not in my_list)   # True\n"
   ]
  },
  {
   "cell_type": "code",
   "execution_count": 28,
   "id": "7e88abf0",
   "metadata": {},
   "outputs": [
    {
     "data": {
      "text/plain": [
       "False"
      ]
     },
     "execution_count": 28,
     "metadata": {},
     "output_type": "execute_result"
    }
   ],
   "source": [
    "8 in my_list"
   ]
  },
  {
   "cell_type": "markdown",
   "id": "0426cf59",
   "metadata": {},
   "source": [
    "# Handling Exception in Python"
   ]
  },
  {
   "cell_type": "code",
   "execution_count": 6,
   "id": "264ec390",
   "metadata": {},
   "outputs": [
    {
     "name": "stdout",
     "output_type": "stream",
     "text": [
      "0\n"
     ]
    }
   ],
   "source": [
    "try:\n",
    "    x = 1/0\n",
    "except ZeroDivisionError:\n",
    "    x = 0\n",
    "print(x)"
   ]
  },
  {
   "cell_type": "code",
   "execution_count": 7,
   "id": "7321e255",
   "metadata": {},
   "outputs": [],
   "source": [
    "#List Comprehension in Python"
   ]
  },
  {
   "cell_type": "code",
   "execution_count": 9,
   "id": "5673898e",
   "metadata": {},
   "outputs": [
    {
     "name": "stdout",
     "output_type": "stream",
     "text": [
      "[0, 1, 4, 9, 16, 25, 36, 49, 64, 81, 100, 121, 144, 169, 196, 225, 256, 289, 324, 361]\n"
     ]
    }
   ],
   "source": [
    "squares = [i**2 for i in range (20)]\n",
    "print(squares)"
   ]
  },
  {
   "cell_type": "markdown",
   "id": "80a1b953",
   "metadata": {},
   "source": [
    "# Handling Missing Data In Python"
   ]
  },
  {
   "cell_type": "code",
   "execution_count": 15,
   "id": "8c868cdc",
   "metadata": {},
   "outputs": [
    {
     "data": {
      "text/html": [
       "<div>\n",
       "<style scoped>\n",
       "    .dataframe tbody tr th:only-of-type {\n",
       "        vertical-align: middle;\n",
       "    }\n",
       "\n",
       "    .dataframe tbody tr th {\n",
       "        vertical-align: top;\n",
       "    }\n",
       "\n",
       "    .dataframe thead th {\n",
       "        text-align: right;\n",
       "    }\n",
       "</style>\n",
       "<table border=\"1\" class=\"dataframe\">\n",
       "  <thead>\n",
       "    <tr style=\"text-align: right;\">\n",
       "      <th></th>\n",
       "      <th>A</th>\n",
       "      <th>B</th>\n",
       "    </tr>\n",
       "  </thead>\n",
       "  <tbody>\n",
       "    <tr>\n",
       "      <th>0</th>\n",
       "      <td>1.0</td>\n",
       "      <td>4.0</td>\n",
       "    </tr>\n",
       "    <tr>\n",
       "      <th>1</th>\n",
       "      <td>2.0</td>\n",
       "      <td>5.0</td>\n",
       "    </tr>\n",
       "    <tr>\n",
       "      <th>2</th>\n",
       "      <td>3.0</td>\n",
       "      <td>0.0</td>\n",
       "    </tr>\n",
       "    <tr>\n",
       "      <th>3</th>\n",
       "      <td>0.0</td>\n",
       "      <td>6.0</td>\n",
       "    </tr>\n",
       "  </tbody>\n",
       "</table>\n",
       "</div>"
      ],
      "text/plain": [
       "     A    B\n",
       "0  1.0  4.0\n",
       "1  2.0  5.0\n",
       "2  3.0  0.0\n",
       "3  0.0  6.0"
      ]
     },
     "execution_count": 15,
     "metadata": {},
     "output_type": "execute_result"
    }
   ],
   "source": [
    "#We can use the fillna() function to fill in missing values\n",
    "\n",
    "import pandas as pd\n",
    "df = pd.DataFrame({\"A\": [1,2, 3, None], \"B\": [4, 5, None, 6]})\n",
    "df.fillna(0)"
   ]
  },
  {
   "cell_type": "markdown",
   "id": "f0abd8a9",
   "metadata": {},
   "source": [
    "# Difference Between Series and DataFrame"
   ]
  },
  {
   "cell_type": "code",
   "execution_count": 21,
   "id": "513d8cab",
   "metadata": {},
   "outputs": [
    {
     "name": "stdout",
     "output_type": "stream",
     "text": [
      "[[0 1]\n",
      " [2 3]\n",
      " [4 5]]\n"
     ]
    }
   ],
   "source": [
    "#We use the numpy rshape function reshape() to give a new shape to an array without changin its data.\n",
    "\n",
    "import numpy as np\n",
    "a = np.arange(6)\n",
    "b = a.reshape(3, 2)\n",
    "print(b)"
   ]
  },
  {
   "cell_type": "markdown",
   "id": "13e20cda",
   "metadata": {},
   "source": [
    "# Data Visualization with Matplotlib"
   ]
  },
  {
   "cell_type": "code",
   "execution_count": 23,
   "id": "b80c0e30",
   "metadata": {},
   "outputs": [
    {
     "name": "stderr",
     "output_type": "stream",
     "text": [
      "Matplotlib is building the font cache; this may take a moment.\n"
     ]
    },
    {
     "data": {
      "image/png": "[encoded data removed]",
      "text/plain": [
       "<Figure size 640x480 with 1 Axes>"
      ]
     },
     "metadata": {},
     "output_type": "display_data"
    }
   ],
   "source": [
    "#Creating a bar plot using matplotlib\n",
    "import matplotlib.pyplot as plt\n",
    "data = [21, 40, 12, 55]\n",
    "labels = ['A', 'B', 'C', 'D']\n",
    "plt.bar(labels, data)\n",
    "plt.show()"
   ]
  },
  {
   "cell_type": "markdown",
   "id": "3d2e5b5c",
   "metadata": {},
   "source": [
    "# Useing a Heatmap in Data Vis"
   ]
  },
  {
   "cell_type": "code",
   "execution_count": 24,
   "id": "a3ea9ef3",
   "metadata": {},
   "outputs": [
    {
     "data": {
      "image/png": "[encoded data removed]",
      "text/plain": [
       "<Figure size 640x480 with 2 Axes>"
      ]
     },
     "metadata": {},
     "output_type": "display_data"
    }
   ],
   "source": [
    "import seaborn as sns\n",
    "data = [[1, 2, 3,], [4, 5, 6], [7, 8, 9]]\n",
    "sns.heatmap(data)\n",
    "plt.show()"
   ]
  },
  {
   "cell_type": "markdown",
   "id": "6158f41b",
   "metadata": {},
   "source": [
    "# DEcision Tree"
   ]
  },
  {
   "cell_type": "code",
   "execution_count": 30,
   "id": "a1be12eb",
   "metadata": {},
   "outputs": [
    {
     "name": "stdout",
     "output_type": "stream",
     "text": [
      "Accuracy: 1.0\n"
     ]
    }
   ],
   "source": [
    "# Import necessary libraries\n",
    "from sklearn.datasets import load_iris\n",
    "from sklearn.model_selection import train_test_split\n",
    "from sklearn.tree import DecisionTreeClassifier, plot_tree\n",
    "from sklearn.metrics import accuracy_score\n",
    "import matplotlib.pyplot as plt\n",
    "\n",
    "# Load the iris dataset\n",
    "iris = load_iris()\n",
    "X = iris.data\n",
    "y = iris.target\n",
    "\n",
    "# Split the dataset into a training set and a test set\n",
    "X_train, X_test, y_train, y_test = train_test_split(X, y, test_size=0.2, random_state=42)\n",
    "\n",
    "# Create a Decision Tree Classifier object\n",
    "clf = DecisionTreeClassifier()\n",
    "\n",
    "# Train the Decision Tree Classifier\n",
    "clf = clf.fit(X_train,y_train)\n",
    "\n",
    "# Predict the response for the test dataset\n",
    "y_pred = clf.predict(X_test)\n",
    "\n",
    "# Calculate the model accuracy\n",
    "print(\"Accuracy:\", accuracy_score(y_test, y_pred))\n"
   ]
  },
  {
   "cell_type": "code",
   "execution_count": 31,
   "id": "2c91532e",
   "metadata": {},
   "outputs": [
    {
     "data": {
      "image/png": "[encoded data removed]",
      "text/plain": [
       "<Figure size 1500x1000 with 1 Axes>"
      ]
     },
     "metadata": {},
     "output_type": "display_data"
    }
   ],
   "source": [
    "\n",
    "# Visualize the decision tree\n",
    "plt.figure(figsize=(15,10))\n",
    "plot_tree(clf, filled=True)\n",
    "plt.show()\n"
   ]
  },
  {
   "cell_type": "code",
   "execution_count": null,
   "id": "051cc35d",
   "metadata": {},
   "outputs": [],
   "source": []
  }
 ],
 "metadata": {
  "kernelspec": {
   "display_name": "Python 3 (ipykernel)",
   "language": "python",
   "name": "python3"
  },
  "language_info": {
   "codemirror_mode": {
    "name": "ipython",
    "version": 3
   },
   "file_extension": ".py",
   "mimetype": "text/x-python",
   "name": "python",
   "nbconvert_exporter": "python",
   "pygments_lexer": "ipython3",
   "version": "3.10.12"
  }
 },
 "nbformat": 4,
 "nbformat_minor": 5
}
